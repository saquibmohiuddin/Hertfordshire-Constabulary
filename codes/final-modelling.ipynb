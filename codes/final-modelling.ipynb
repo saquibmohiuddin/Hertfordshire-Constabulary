{
 "cells": [
  {
   "cell_type": "code",
   "execution_count": 94,
   "metadata": {},
   "outputs": [],
   "source": [
    "import pandas as pd \n",
    "import numpy as np \n",
    "from numpy import linspace\n",
    "import seaborn as sns\n",
    "\n",
    "import tensorflow as tf\n",
    "from tensorflow import keras\n",
    "\n",
    "import matplotlib.pyplot as plt # visualization\n",
    "from termcolor import colored as cl # text customization\n",
    "\n",
    "from sklearn.preprocessing import StandardScaler # data normalization\n",
    "from sklearn.model_selection import train_test_split # data split\n",
    "from sklearn.tree import DecisionTreeClassifier # Decision tree algorithm\n",
    "from sklearn.metrics import classification_report, roc_auc_score, roc_curve, auc, confusion_matrix, accuracy_score, f1_score\n",
    "from sklearn.metrics import plot_confusion_matrix\n",
    "from sklearn.neighbors import KNeighborsClassifier # KNN algorithm\n",
    "from sklearn.linear_model import LogisticRegression # Logistic regression algorithm\n",
    "from sklearn.svm import SVC # SVM algorithm\n",
    "from sklearn.naive_bayes import CategoricalNB\n",
    "from sklearn.ensemble import RandomForestClassifier # Random forest tree algorithm\n",
    "from xgboost import XGBClassifier # XGBoost algorithm\n",
    "\n",
    "from sklearn.model_selection import RandomizedSearchCV\n",
    "from sklearn.model_selection import GridSearchCV\n",
    "#from imblearn.combine import SMOTETomek\n",
    "from collections import Counter"
   ]
  },
  {
   "cell_type": "code",
   "execution_count": 2,
   "metadata": {},
   "outputs": [
    {
     "data": {
      "text/html": [
       "<div>\n",
       "<style scoped>\n",
       "    .dataframe tbody tr th:only-of-type {\n",
       "        vertical-align: middle;\n",
       "    }\n",
       "\n",
       "    .dataframe tbody tr th {\n",
       "        vertical-align: top;\n",
       "    }\n",
       "\n",
       "    .dataframe thead th {\n",
       "        text-align: right;\n",
       "    }\n",
       "</style>\n",
       "<table border=\"1\" class=\"dataframe\">\n",
       "  <thead>\n",
       "    <tr style=\"text-align: right;\">\n",
       "      <th></th>\n",
       "      <th>LSOA_code</th>\n",
       "      <th>crime_year_2019</th>\n",
       "      <th>crime_year_2020</th>\n",
       "      <th>crime_year_2021</th>\n",
       "      <th>crime_month_1</th>\n",
       "      <th>crime_month_2</th>\n",
       "      <th>crime_month_3</th>\n",
       "      <th>crime_month_4</th>\n",
       "      <th>crime_month_5</th>\n",
       "      <th>crime_month_6</th>\n",
       "      <th>...</th>\n",
       "      <th>crime_type_Burglary</th>\n",
       "      <th>crime_type_Criminal damage and arson</th>\n",
       "      <th>crime_type_Drugs</th>\n",
       "      <th>crime_type_Possession of weapons</th>\n",
       "      <th>crime_type_Public order</th>\n",
       "      <th>crime_type_Robbery</th>\n",
       "      <th>crime_type_Theft</th>\n",
       "      <th>crime_type_Vehicle crime</th>\n",
       "      <th>crime_type_Violence and sexual offences</th>\n",
       "      <th>outcome_type</th>\n",
       "    </tr>\n",
       "  </thead>\n",
       "  <tbody>\n",
       "    <tr>\n",
       "      <th>0</th>\n",
       "      <td>0.331247</td>\n",
       "      <td>1</td>\n",
       "      <td>0</td>\n",
       "      <td>0</td>\n",
       "      <td>0</td>\n",
       "      <td>0</td>\n",
       "      <td>1</td>\n",
       "      <td>0</td>\n",
       "      <td>0</td>\n",
       "      <td>0</td>\n",
       "      <td>...</td>\n",
       "      <td>1</td>\n",
       "      <td>0</td>\n",
       "      <td>0</td>\n",
       "      <td>0</td>\n",
       "      <td>0</td>\n",
       "      <td>0</td>\n",
       "      <td>0</td>\n",
       "      <td>0</td>\n",
       "      <td>0</td>\n",
       "      <td>1</td>\n",
       "    </tr>\n",
       "    <tr>\n",
       "      <th>1</th>\n",
       "      <td>0.250000</td>\n",
       "      <td>1</td>\n",
       "      <td>0</td>\n",
       "      <td>0</td>\n",
       "      <td>0</td>\n",
       "      <td>0</td>\n",
       "      <td>1</td>\n",
       "      <td>0</td>\n",
       "      <td>0</td>\n",
       "      <td>0</td>\n",
       "      <td>...</td>\n",
       "      <td>0</td>\n",
       "      <td>0</td>\n",
       "      <td>0</td>\n",
       "      <td>0</td>\n",
       "      <td>0</td>\n",
       "      <td>0</td>\n",
       "      <td>0</td>\n",
       "      <td>0</td>\n",
       "      <td>1</td>\n",
       "      <td>0</td>\n",
       "    </tr>\n",
       "    <tr>\n",
       "      <th>2</th>\n",
       "      <td>0.123494</td>\n",
       "      <td>1</td>\n",
       "      <td>0</td>\n",
       "      <td>0</td>\n",
       "      <td>0</td>\n",
       "      <td>0</td>\n",
       "      <td>1</td>\n",
       "      <td>0</td>\n",
       "      <td>0</td>\n",
       "      <td>0</td>\n",
       "      <td>...</td>\n",
       "      <td>0</td>\n",
       "      <td>0</td>\n",
       "      <td>1</td>\n",
       "      <td>0</td>\n",
       "      <td>0</td>\n",
       "      <td>0</td>\n",
       "      <td>0</td>\n",
       "      <td>0</td>\n",
       "      <td>0</td>\n",
       "      <td>1</td>\n",
       "    </tr>\n",
       "    <tr>\n",
       "      <th>3</th>\n",
       "      <td>0.161017</td>\n",
       "      <td>1</td>\n",
       "      <td>0</td>\n",
       "      <td>0</td>\n",
       "      <td>0</td>\n",
       "      <td>0</td>\n",
       "      <td>1</td>\n",
       "      <td>0</td>\n",
       "      <td>0</td>\n",
       "      <td>0</td>\n",
       "      <td>...</td>\n",
       "      <td>0</td>\n",
       "      <td>0</td>\n",
       "      <td>1</td>\n",
       "      <td>0</td>\n",
       "      <td>0</td>\n",
       "      <td>0</td>\n",
       "      <td>0</td>\n",
       "      <td>0</td>\n",
       "      <td>0</td>\n",
       "      <td>0</td>\n",
       "    </tr>\n",
       "    <tr>\n",
       "      <th>4</th>\n",
       "      <td>0.192090</td>\n",
       "      <td>1</td>\n",
       "      <td>0</td>\n",
       "      <td>0</td>\n",
       "      <td>0</td>\n",
       "      <td>0</td>\n",
       "      <td>1</td>\n",
       "      <td>0</td>\n",
       "      <td>0</td>\n",
       "      <td>0</td>\n",
       "      <td>...</td>\n",
       "      <td>0</td>\n",
       "      <td>0</td>\n",
       "      <td>0</td>\n",
       "      <td>0</td>\n",
       "      <td>0</td>\n",
       "      <td>0</td>\n",
       "      <td>0</td>\n",
       "      <td>0</td>\n",
       "      <td>1</td>\n",
       "      <td>0</td>\n",
       "    </tr>\n",
       "    <tr>\n",
       "      <th>...</th>\n",
       "      <td>...</td>\n",
       "      <td>...</td>\n",
       "      <td>...</td>\n",
       "      <td>...</td>\n",
       "      <td>...</td>\n",
       "      <td>...</td>\n",
       "      <td>...</td>\n",
       "      <td>...</td>\n",
       "      <td>...</td>\n",
       "      <td>...</td>\n",
       "      <td>...</td>\n",
       "      <td>...</td>\n",
       "      <td>...</td>\n",
       "      <td>...</td>\n",
       "      <td>...</td>\n",
       "      <td>...</td>\n",
       "      <td>...</td>\n",
       "      <td>...</td>\n",
       "      <td>...</td>\n",
       "      <td>...</td>\n",
       "      <td>...</td>\n",
       "    </tr>\n",
       "    <tr>\n",
       "      <th>120944</th>\n",
       "      <td>0.331247</td>\n",
       "      <td>0</td>\n",
       "      <td>0</td>\n",
       "      <td>0</td>\n",
       "      <td>0</td>\n",
       "      <td>1</td>\n",
       "      <td>0</td>\n",
       "      <td>0</td>\n",
       "      <td>0</td>\n",
       "      <td>0</td>\n",
       "      <td>...</td>\n",
       "      <td>0</td>\n",
       "      <td>0</td>\n",
       "      <td>0</td>\n",
       "      <td>0</td>\n",
       "      <td>1</td>\n",
       "      <td>0</td>\n",
       "      <td>0</td>\n",
       "      <td>0</td>\n",
       "      <td>0</td>\n",
       "      <td>0</td>\n",
       "    </tr>\n",
       "    <tr>\n",
       "      <th>120945</th>\n",
       "      <td>0.187500</td>\n",
       "      <td>0</td>\n",
       "      <td>0</td>\n",
       "      <td>0</td>\n",
       "      <td>0</td>\n",
       "      <td>1</td>\n",
       "      <td>0</td>\n",
       "      <td>0</td>\n",
       "      <td>0</td>\n",
       "      <td>0</td>\n",
       "      <td>...</td>\n",
       "      <td>0</td>\n",
       "      <td>0</td>\n",
       "      <td>0</td>\n",
       "      <td>0</td>\n",
       "      <td>0</td>\n",
       "      <td>0</td>\n",
       "      <td>0</td>\n",
       "      <td>0</td>\n",
       "      <td>1</td>\n",
       "      <td>0</td>\n",
       "    </tr>\n",
       "    <tr>\n",
       "      <th>120946</th>\n",
       "      <td>0.233202</td>\n",
       "      <td>0</td>\n",
       "      <td>0</td>\n",
       "      <td>0</td>\n",
       "      <td>0</td>\n",
       "      <td>1</td>\n",
       "      <td>0</td>\n",
       "      <td>0</td>\n",
       "      <td>0</td>\n",
       "      <td>0</td>\n",
       "      <td>...</td>\n",
       "      <td>0</td>\n",
       "      <td>0</td>\n",
       "      <td>0</td>\n",
       "      <td>0</td>\n",
       "      <td>0</td>\n",
       "      <td>0</td>\n",
       "      <td>1</td>\n",
       "      <td>0</td>\n",
       "      <td>0</td>\n",
       "      <td>0</td>\n",
       "    </tr>\n",
       "    <tr>\n",
       "      <th>120947</th>\n",
       "      <td>0.086957</td>\n",
       "      <td>0</td>\n",
       "      <td>0</td>\n",
       "      <td>0</td>\n",
       "      <td>0</td>\n",
       "      <td>1</td>\n",
       "      <td>0</td>\n",
       "      <td>0</td>\n",
       "      <td>0</td>\n",
       "      <td>0</td>\n",
       "      <td>...</td>\n",
       "      <td>0</td>\n",
       "      <td>0</td>\n",
       "      <td>0</td>\n",
       "      <td>0</td>\n",
       "      <td>0</td>\n",
       "      <td>0</td>\n",
       "      <td>0</td>\n",
       "      <td>0</td>\n",
       "      <td>1</td>\n",
       "      <td>0</td>\n",
       "    </tr>\n",
       "    <tr>\n",
       "      <th>120948</th>\n",
       "      <td>0.183962</td>\n",
       "      <td>0</td>\n",
       "      <td>0</td>\n",
       "      <td>0</td>\n",
       "      <td>0</td>\n",
       "      <td>1</td>\n",
       "      <td>0</td>\n",
       "      <td>0</td>\n",
       "      <td>0</td>\n",
       "      <td>0</td>\n",
       "      <td>...</td>\n",
       "      <td>0</td>\n",
       "      <td>0</td>\n",
       "      <td>0</td>\n",
       "      <td>0</td>\n",
       "      <td>0</td>\n",
       "      <td>0</td>\n",
       "      <td>0</td>\n",
       "      <td>0</td>\n",
       "      <td>1</td>\n",
       "      <td>0</td>\n",
       "    </tr>\n",
       "  </tbody>\n",
       "</table>\n",
       "<p>120949 rows × 25 columns</p>\n",
       "</div>"
      ],
      "text/plain": [
       "        LSOA_code  crime_year_2019  crime_year_2020  crime_year_2021  \\\n",
       "0        0.331247                1                0                0   \n",
       "1        0.250000                1                0                0   \n",
       "2        0.123494                1                0                0   \n",
       "3        0.161017                1                0                0   \n",
       "4        0.192090                1                0                0   \n",
       "...           ...              ...              ...              ...   \n",
       "120944   0.331247                0                0                0   \n",
       "120945   0.187500                0                0                0   \n",
       "120946   0.233202                0                0                0   \n",
       "120947   0.086957                0                0                0   \n",
       "120948   0.183962                0                0                0   \n",
       "\n",
       "        crime_month_1  crime_month_2  crime_month_3  crime_month_4  \\\n",
       "0                   0              0              1              0   \n",
       "1                   0              0              1              0   \n",
       "2                   0              0              1              0   \n",
       "3                   0              0              1              0   \n",
       "4                   0              0              1              0   \n",
       "...               ...            ...            ...            ...   \n",
       "120944              0              1              0              0   \n",
       "120945              0              1              0              0   \n",
       "120946              0              1              0              0   \n",
       "120947              0              1              0              0   \n",
       "120948              0              1              0              0   \n",
       "\n",
       "        crime_month_5  crime_month_6  ...  crime_type_Burglary  \\\n",
       "0                   0              0  ...                    1   \n",
       "1                   0              0  ...                    0   \n",
       "2                   0              0  ...                    0   \n",
       "3                   0              0  ...                    0   \n",
       "4                   0              0  ...                    0   \n",
       "...               ...            ...  ...                  ...   \n",
       "120944              0              0  ...                    0   \n",
       "120945              0              0  ...                    0   \n",
       "120946              0              0  ...                    0   \n",
       "120947              0              0  ...                    0   \n",
       "120948              0              0  ...                    0   \n",
       "\n",
       "        crime_type_Criminal damage and arson  crime_type_Drugs  \\\n",
       "0                                          0                 0   \n",
       "1                                          0                 0   \n",
       "2                                          0                 1   \n",
       "3                                          0                 1   \n",
       "4                                          0                 0   \n",
       "...                                      ...               ...   \n",
       "120944                                     0                 0   \n",
       "120945                                     0                 0   \n",
       "120946                                     0                 0   \n",
       "120947                                     0                 0   \n",
       "120948                                     0                 0   \n",
       "\n",
       "        crime_type_Possession of weapons  crime_type_Public order  \\\n",
       "0                                      0                        0   \n",
       "1                                      0                        0   \n",
       "2                                      0                        0   \n",
       "3                                      0                        0   \n",
       "4                                      0                        0   \n",
       "...                                  ...                      ...   \n",
       "120944                                 0                        1   \n",
       "120945                                 0                        0   \n",
       "120946                                 0                        0   \n",
       "120947                                 0                        0   \n",
       "120948                                 0                        0   \n",
       "\n",
       "        crime_type_Robbery  crime_type_Theft  crime_type_Vehicle crime  \\\n",
       "0                        0                 0                         0   \n",
       "1                        0                 0                         0   \n",
       "2                        0                 0                         0   \n",
       "3                        0                 0                         0   \n",
       "4                        0                 0                         0   \n",
       "...                    ...               ...                       ...   \n",
       "120944                   0                 0                         0   \n",
       "120945                   0                 0                         0   \n",
       "120946                   0                 1                         0   \n",
       "120947                   0                 0                         0   \n",
       "120948                   0                 0                         0   \n",
       "\n",
       "        crime_type_Violence and sexual offences  outcome_type  \n",
       "0                                             0             1  \n",
       "1                                             1             0  \n",
       "2                                             0             1  \n",
       "3                                             0             0  \n",
       "4                                             1             0  \n",
       "...                                         ...           ...  \n",
       "120944                                        0             0  \n",
       "120945                                        1             0  \n",
       "120946                                        0             0  \n",
       "120947                                        1             0  \n",
       "120948                                        1             0  \n",
       "\n",
       "[120949 rows x 25 columns]"
      ]
     },
     "execution_count": 2,
     "metadata": {},
     "output_type": "execute_result"
    }
   ],
   "source": [
    "df = pd.read_csv(\"D:/ADSP/Hertfordshire-Constabulary/data/final-one-hot-mean-encoded.csv\")\n",
    "df"
   ]
  },
  {
   "cell_type": "code",
   "execution_count": 3,
   "metadata": {},
   "outputs": [
    {
     "data": {
      "text/html": [
       "<div>\n",
       "<style scoped>\n",
       "    .dataframe tbody tr th:only-of-type {\n",
       "        vertical-align: middle;\n",
       "    }\n",
       "\n",
       "    .dataframe tbody tr th {\n",
       "        vertical-align: top;\n",
       "    }\n",
       "\n",
       "    .dataframe thead th {\n",
       "        text-align: right;\n",
       "    }\n",
       "</style>\n",
       "<table border=\"1\" class=\"dataframe\">\n",
       "  <thead>\n",
       "    <tr style=\"text-align: right;\">\n",
       "      <th></th>\n",
       "      <th>LSOA_code</th>\n",
       "      <th>crime_year_2019</th>\n",
       "      <th>crime_year_2020</th>\n",
       "      <th>crime_year_2021</th>\n",
       "      <th>crime_month_1</th>\n",
       "      <th>crime_month_2</th>\n",
       "      <th>crime_month_3</th>\n",
       "      <th>crime_month_4</th>\n",
       "      <th>crime_month_5</th>\n",
       "      <th>crime_month_6</th>\n",
       "      <th>...</th>\n",
       "      <th>crime_month_11</th>\n",
       "      <th>crime_type_Burglary</th>\n",
       "      <th>crime_type_Criminal damage and arson</th>\n",
       "      <th>crime_type_Drugs</th>\n",
       "      <th>crime_type_Possession of weapons</th>\n",
       "      <th>crime_type_Public order</th>\n",
       "      <th>crime_type_Robbery</th>\n",
       "      <th>crime_type_Theft</th>\n",
       "      <th>crime_type_Vehicle crime</th>\n",
       "      <th>crime_type_Violence and sexual offences</th>\n",
       "    </tr>\n",
       "  </thead>\n",
       "  <tbody>\n",
       "    <tr>\n",
       "      <th>0</th>\n",
       "      <td>0.331247</td>\n",
       "      <td>1</td>\n",
       "      <td>0</td>\n",
       "      <td>0</td>\n",
       "      <td>0</td>\n",
       "      <td>0</td>\n",
       "      <td>1</td>\n",
       "      <td>0</td>\n",
       "      <td>0</td>\n",
       "      <td>0</td>\n",
       "      <td>...</td>\n",
       "      <td>0</td>\n",
       "      <td>1</td>\n",
       "      <td>0</td>\n",
       "      <td>0</td>\n",
       "      <td>0</td>\n",
       "      <td>0</td>\n",
       "      <td>0</td>\n",
       "      <td>0</td>\n",
       "      <td>0</td>\n",
       "      <td>0</td>\n",
       "    </tr>\n",
       "    <tr>\n",
       "      <th>1</th>\n",
       "      <td>0.250000</td>\n",
       "      <td>1</td>\n",
       "      <td>0</td>\n",
       "      <td>0</td>\n",
       "      <td>0</td>\n",
       "      <td>0</td>\n",
       "      <td>1</td>\n",
       "      <td>0</td>\n",
       "      <td>0</td>\n",
       "      <td>0</td>\n",
       "      <td>...</td>\n",
       "      <td>0</td>\n",
       "      <td>0</td>\n",
       "      <td>0</td>\n",
       "      <td>0</td>\n",
       "      <td>0</td>\n",
       "      <td>0</td>\n",
       "      <td>0</td>\n",
       "      <td>0</td>\n",
       "      <td>0</td>\n",
       "      <td>1</td>\n",
       "    </tr>\n",
       "    <tr>\n",
       "      <th>2</th>\n",
       "      <td>0.123494</td>\n",
       "      <td>1</td>\n",
       "      <td>0</td>\n",
       "      <td>0</td>\n",
       "      <td>0</td>\n",
       "      <td>0</td>\n",
       "      <td>1</td>\n",
       "      <td>0</td>\n",
       "      <td>0</td>\n",
       "      <td>0</td>\n",
       "      <td>...</td>\n",
       "      <td>0</td>\n",
       "      <td>0</td>\n",
       "      <td>0</td>\n",
       "      <td>1</td>\n",
       "      <td>0</td>\n",
       "      <td>0</td>\n",
       "      <td>0</td>\n",
       "      <td>0</td>\n",
       "      <td>0</td>\n",
       "      <td>0</td>\n",
       "    </tr>\n",
       "    <tr>\n",
       "      <th>3</th>\n",
       "      <td>0.161017</td>\n",
       "      <td>1</td>\n",
       "      <td>0</td>\n",
       "      <td>0</td>\n",
       "      <td>0</td>\n",
       "      <td>0</td>\n",
       "      <td>1</td>\n",
       "      <td>0</td>\n",
       "      <td>0</td>\n",
       "      <td>0</td>\n",
       "      <td>...</td>\n",
       "      <td>0</td>\n",
       "      <td>0</td>\n",
       "      <td>0</td>\n",
       "      <td>1</td>\n",
       "      <td>0</td>\n",
       "      <td>0</td>\n",
       "      <td>0</td>\n",
       "      <td>0</td>\n",
       "      <td>0</td>\n",
       "      <td>0</td>\n",
       "    </tr>\n",
       "    <tr>\n",
       "      <th>4</th>\n",
       "      <td>0.192090</td>\n",
       "      <td>1</td>\n",
       "      <td>0</td>\n",
       "      <td>0</td>\n",
       "      <td>0</td>\n",
       "      <td>0</td>\n",
       "      <td>1</td>\n",
       "      <td>0</td>\n",
       "      <td>0</td>\n",
       "      <td>0</td>\n",
       "      <td>...</td>\n",
       "      <td>0</td>\n",
       "      <td>0</td>\n",
       "      <td>0</td>\n",
       "      <td>0</td>\n",
       "      <td>0</td>\n",
       "      <td>0</td>\n",
       "      <td>0</td>\n",
       "      <td>0</td>\n",
       "      <td>0</td>\n",
       "      <td>1</td>\n",
       "    </tr>\n",
       "    <tr>\n",
       "      <th>...</th>\n",
       "      <td>...</td>\n",
       "      <td>...</td>\n",
       "      <td>...</td>\n",
       "      <td>...</td>\n",
       "      <td>...</td>\n",
       "      <td>...</td>\n",
       "      <td>...</td>\n",
       "      <td>...</td>\n",
       "      <td>...</td>\n",
       "      <td>...</td>\n",
       "      <td>...</td>\n",
       "      <td>...</td>\n",
       "      <td>...</td>\n",
       "      <td>...</td>\n",
       "      <td>...</td>\n",
       "      <td>...</td>\n",
       "      <td>...</td>\n",
       "      <td>...</td>\n",
       "      <td>...</td>\n",
       "      <td>...</td>\n",
       "      <td>...</td>\n",
       "    </tr>\n",
       "    <tr>\n",
       "      <th>120944</th>\n",
       "      <td>0.331247</td>\n",
       "      <td>0</td>\n",
       "      <td>0</td>\n",
       "      <td>0</td>\n",
       "      <td>0</td>\n",
       "      <td>1</td>\n",
       "      <td>0</td>\n",
       "      <td>0</td>\n",
       "      <td>0</td>\n",
       "      <td>0</td>\n",
       "      <td>...</td>\n",
       "      <td>0</td>\n",
       "      <td>0</td>\n",
       "      <td>0</td>\n",
       "      <td>0</td>\n",
       "      <td>0</td>\n",
       "      <td>1</td>\n",
       "      <td>0</td>\n",
       "      <td>0</td>\n",
       "      <td>0</td>\n",
       "      <td>0</td>\n",
       "    </tr>\n",
       "    <tr>\n",
       "      <th>120945</th>\n",
       "      <td>0.187500</td>\n",
       "      <td>0</td>\n",
       "      <td>0</td>\n",
       "      <td>0</td>\n",
       "      <td>0</td>\n",
       "      <td>1</td>\n",
       "      <td>0</td>\n",
       "      <td>0</td>\n",
       "      <td>0</td>\n",
       "      <td>0</td>\n",
       "      <td>...</td>\n",
       "      <td>0</td>\n",
       "      <td>0</td>\n",
       "      <td>0</td>\n",
       "      <td>0</td>\n",
       "      <td>0</td>\n",
       "      <td>0</td>\n",
       "      <td>0</td>\n",
       "      <td>0</td>\n",
       "      <td>0</td>\n",
       "      <td>1</td>\n",
       "    </tr>\n",
       "    <tr>\n",
       "      <th>120946</th>\n",
       "      <td>0.233202</td>\n",
       "      <td>0</td>\n",
       "      <td>0</td>\n",
       "      <td>0</td>\n",
       "      <td>0</td>\n",
       "      <td>1</td>\n",
       "      <td>0</td>\n",
       "      <td>0</td>\n",
       "      <td>0</td>\n",
       "      <td>0</td>\n",
       "      <td>...</td>\n",
       "      <td>0</td>\n",
       "      <td>0</td>\n",
       "      <td>0</td>\n",
       "      <td>0</td>\n",
       "      <td>0</td>\n",
       "      <td>0</td>\n",
       "      <td>0</td>\n",
       "      <td>1</td>\n",
       "      <td>0</td>\n",
       "      <td>0</td>\n",
       "    </tr>\n",
       "    <tr>\n",
       "      <th>120947</th>\n",
       "      <td>0.086957</td>\n",
       "      <td>0</td>\n",
       "      <td>0</td>\n",
       "      <td>0</td>\n",
       "      <td>0</td>\n",
       "      <td>1</td>\n",
       "      <td>0</td>\n",
       "      <td>0</td>\n",
       "      <td>0</td>\n",
       "      <td>0</td>\n",
       "      <td>...</td>\n",
       "      <td>0</td>\n",
       "      <td>0</td>\n",
       "      <td>0</td>\n",
       "      <td>0</td>\n",
       "      <td>0</td>\n",
       "      <td>0</td>\n",
       "      <td>0</td>\n",
       "      <td>0</td>\n",
       "      <td>0</td>\n",
       "      <td>1</td>\n",
       "    </tr>\n",
       "    <tr>\n",
       "      <th>120948</th>\n",
       "      <td>0.183962</td>\n",
       "      <td>0</td>\n",
       "      <td>0</td>\n",
       "      <td>0</td>\n",
       "      <td>0</td>\n",
       "      <td>1</td>\n",
       "      <td>0</td>\n",
       "      <td>0</td>\n",
       "      <td>0</td>\n",
       "      <td>0</td>\n",
       "      <td>...</td>\n",
       "      <td>0</td>\n",
       "      <td>0</td>\n",
       "      <td>0</td>\n",
       "      <td>0</td>\n",
       "      <td>0</td>\n",
       "      <td>0</td>\n",
       "      <td>0</td>\n",
       "      <td>0</td>\n",
       "      <td>0</td>\n",
       "      <td>1</td>\n",
       "    </tr>\n",
       "  </tbody>\n",
       "</table>\n",
       "<p>120949 rows × 24 columns</p>\n",
       "</div>"
      ],
      "text/plain": [
       "        LSOA_code  crime_year_2019  crime_year_2020  crime_year_2021  \\\n",
       "0        0.331247                1                0                0   \n",
       "1        0.250000                1                0                0   \n",
       "2        0.123494                1                0                0   \n",
       "3        0.161017                1                0                0   \n",
       "4        0.192090                1                0                0   \n",
       "...           ...              ...              ...              ...   \n",
       "120944   0.331247                0                0                0   \n",
       "120945   0.187500                0                0                0   \n",
       "120946   0.233202                0                0                0   \n",
       "120947   0.086957                0                0                0   \n",
       "120948   0.183962                0                0                0   \n",
       "\n",
       "        crime_month_1  crime_month_2  crime_month_3  crime_month_4  \\\n",
       "0                   0              0              1              0   \n",
       "1                   0              0              1              0   \n",
       "2                   0              0              1              0   \n",
       "3                   0              0              1              0   \n",
       "4                   0              0              1              0   \n",
       "...               ...            ...            ...            ...   \n",
       "120944              0              1              0              0   \n",
       "120945              0              1              0              0   \n",
       "120946              0              1              0              0   \n",
       "120947              0              1              0              0   \n",
       "120948              0              1              0              0   \n",
       "\n",
       "        crime_month_5  crime_month_6  ...  crime_month_11  \\\n",
       "0                   0              0  ...               0   \n",
       "1                   0              0  ...               0   \n",
       "2                   0              0  ...               0   \n",
       "3                   0              0  ...               0   \n",
       "4                   0              0  ...               0   \n",
       "...               ...            ...  ...             ...   \n",
       "120944              0              0  ...               0   \n",
       "120945              0              0  ...               0   \n",
       "120946              0              0  ...               0   \n",
       "120947              0              0  ...               0   \n",
       "120948              0              0  ...               0   \n",
       "\n",
       "        crime_type_Burglary  crime_type_Criminal damage and arson  \\\n",
       "0                         1                                     0   \n",
       "1                         0                                     0   \n",
       "2                         0                                     0   \n",
       "3                         0                                     0   \n",
       "4                         0                                     0   \n",
       "...                     ...                                   ...   \n",
       "120944                    0                                     0   \n",
       "120945                    0                                     0   \n",
       "120946                    0                                     0   \n",
       "120947                    0                                     0   \n",
       "120948                    0                                     0   \n",
       "\n",
       "        crime_type_Drugs  crime_type_Possession of weapons  \\\n",
       "0                      0                                 0   \n",
       "1                      0                                 0   \n",
       "2                      1                                 0   \n",
       "3                      1                                 0   \n",
       "4                      0                                 0   \n",
       "...                  ...                               ...   \n",
       "120944                 0                                 0   \n",
       "120945                 0                                 0   \n",
       "120946                 0                                 0   \n",
       "120947                 0                                 0   \n",
       "120948                 0                                 0   \n",
       "\n",
       "        crime_type_Public order  crime_type_Robbery  crime_type_Theft  \\\n",
       "0                             0                   0                 0   \n",
       "1                             0                   0                 0   \n",
       "2                             0                   0                 0   \n",
       "3                             0                   0                 0   \n",
       "4                             0                   0                 0   \n",
       "...                         ...                 ...               ...   \n",
       "120944                        1                   0                 0   \n",
       "120945                        0                   0                 0   \n",
       "120946                        0                   0                 1   \n",
       "120947                        0                   0                 0   \n",
       "120948                        0                   0                 0   \n",
       "\n",
       "        crime_type_Vehicle crime  crime_type_Violence and sexual offences  \n",
       "0                              0                                        0  \n",
       "1                              0                                        1  \n",
       "2                              0                                        0  \n",
       "3                              0                                        0  \n",
       "4                              0                                        1  \n",
       "...                          ...                                      ...  \n",
       "120944                         0                                        0  \n",
       "120945                         0                                        1  \n",
       "120946                         0                                        0  \n",
       "120947                         0                                        1  \n",
       "120948                         0                                        1  \n",
       "\n",
       "[120949 rows x 24 columns]"
      ]
     },
     "execution_count": 3,
     "metadata": {},
     "output_type": "execute_result"
    }
   ],
   "source": [
    "x_input = df.iloc[: , :-1]\n",
    "x_input"
   ]
  },
  {
   "cell_type": "code",
   "execution_count": 4,
   "metadata": {},
   "outputs": [
    {
     "data": {
      "text/plain": [
       "0         1\n",
       "1         0\n",
       "2         1\n",
       "3         0\n",
       "4         0\n",
       "         ..\n",
       "120944    0\n",
       "120945    0\n",
       "120946    0\n",
       "120947    0\n",
       "120948    0\n",
       "Name: outcome_type, Length: 120949, dtype: int64"
      ]
     },
     "execution_count": 4,
     "metadata": {},
     "output_type": "execute_result"
    }
   ],
   "source": [
    "y = df[\"outcome_type\"]\n",
    "y"
   ]
  },
  {
   "cell_type": "code",
   "execution_count": 5,
   "metadata": {},
   "outputs": [],
   "source": [
    "x_train, x_test, y_train, y_test = train_test_split(x_input, y, test_size=0.20, random_state=4, stratify=y) \n",
    "# using stratify to ensure no class disparity"
   ]
  },
  {
   "cell_type": "code",
   "execution_count": 6,
   "metadata": {},
   "outputs": [
    {
     "data": {
      "text/plain": [
       "0    78101\n",
       "1    18658\n",
       "Name: outcome_type, dtype: int64"
      ]
     },
     "execution_count": 6,
     "metadata": {},
     "output_type": "execute_result"
    }
   ],
   "source": [
    "y_train.value_counts()"
   ]
  },
  {
   "cell_type": "code",
   "execution_count": 7,
   "metadata": {},
   "outputs": [
    {
     "data": {
      "text/plain": [
       "0    19526\n",
       "1     4664\n",
       "Name: outcome_type, dtype: int64"
      ]
     },
     "execution_count": 7,
     "metadata": {},
     "output_type": "execute_result"
    }
   ],
   "source": [
    "y_test.value_counts()"
   ]
  },
  {
   "cell_type": "markdown",
   "metadata": {},
   "source": [
    "## Modelling"
   ]
  },
  {
   "cell_type": "markdown",
   "metadata": {},
   "source": [
    "### Using Grid Search CV to identify best model and parameters "
   ]
  },
  {
   "cell_type": "code",
   "execution_count": 79,
   "metadata": {},
   "outputs": [],
   "source": [
    "model_params = {\n",
    "    'random_forest': {\n",
    "        'model': RandomForestClassifier(),\n",
    "        'params' : {\n",
    "            'n_estimators': [1,5,10,100],\n",
    "            'min_samples_leaf': [10,50,100]\n",
    "        }\n",
    "    },\n",
    "    'decision_tree': {\n",
    "        'model': DecisionTreeClassifier(),\n",
    "        'params': {\n",
    "            'criterion': ['gini','entropy'],\n",
    "            'max_depth':[3,5,10]\n",
    "        }\n",
    "    },\n",
    "    \"XGBClassifier\": {\n",
    "        \"model\": XGBClassifier(use_label_encoder=False, booster='gbtree',\n",
    "        eval_metric = \"logloss\"),\n",
    "        \"params\": {'n_estimators': range(6, 10),\n",
    "        'max_depth': range(3, 8),\n",
    "        'learning_rate': [.01, .2, .3, .4, .5],\n",
    "        'colsample_bytree': [.7, .8, .9, 1]}\n",
    "    }     \n",
    "}"
   ]
  },
  {
   "cell_type": "code",
   "execution_count": 80,
   "metadata": {},
   "outputs": [],
   "source": [
    "# evaluation metrics in gridsearchcv: https://scikit-learn.org/0.15/modules/model_evaluation.html\n",
    "\n",
    "scores = []\n",
    "\n",
    "for model_name, mp in model_params.items():\n",
    "    clf =  GridSearchCV(mp['model'], mp['params'], cv = 5, \n",
    "    scoring = \"f1\", return_train_score=False)\n",
    "    clf.fit(x_train, y_train)\n",
    "    scores.append({\n",
    "        'model': model_name,\n",
    "        'best_score': clf.best_score_,\n",
    "        'best_params': clf.best_params_\n",
    "    })\n",
    "    \n",
    "df_metrics = pd.DataFrame(scores, columns=['model','best_score','best_params'])"
   ]
  },
  {
   "cell_type": "code",
   "execution_count": 81,
   "metadata": {},
   "outputs": [
    {
     "data": {
      "text/html": [
       "<div>\n",
       "<style scoped>\n",
       "    .dataframe tbody tr th:only-of-type {\n",
       "        vertical-align: middle;\n",
       "    }\n",
       "\n",
       "    .dataframe tbody tr th {\n",
       "        vertical-align: top;\n",
       "    }\n",
       "\n",
       "    .dataframe thead th {\n",
       "        text-align: right;\n",
       "    }\n",
       "</style>\n",
       "<table border=\"1\" class=\"dataframe\">\n",
       "  <thead>\n",
       "    <tr style=\"text-align: right;\">\n",
       "      <th></th>\n",
       "      <th>model</th>\n",
       "      <th>best_score</th>\n",
       "      <th>best_params</th>\n",
       "    </tr>\n",
       "  </thead>\n",
       "  <tbody>\n",
       "    <tr>\n",
       "      <th>0</th>\n",
       "      <td>random_forest</td>\n",
       "      <td>0.294973</td>\n",
       "      <td>{'min_samples_leaf': 10, 'n_estimators': 1}</td>\n",
       "    </tr>\n",
       "    <tr>\n",
       "      <th>1</th>\n",
       "      <td>decision_tree</td>\n",
       "      <td>0.253979</td>\n",
       "      <td>{'criterion': 'entropy', 'max_depth': 5}</td>\n",
       "    </tr>\n",
       "    <tr>\n",
       "      <th>2</th>\n",
       "      <td>XGBClassifier</td>\n",
       "      <td>0.264298</td>\n",
       "      <td>{'colsample_bytree': 0.9, 'learning_rate': 0.5...</td>\n",
       "    </tr>\n",
       "  </tbody>\n",
       "</table>\n",
       "</div>"
      ],
      "text/plain": [
       "           model  best_score  \\\n",
       "0  random_forest    0.294973   \n",
       "1  decision_tree    0.253979   \n",
       "2  XGBClassifier    0.264298   \n",
       "\n",
       "                                         best_params  \n",
       "0        {'min_samples_leaf': 10, 'n_estimators': 1}  \n",
       "1           {'criterion': 'entropy', 'max_depth': 5}  \n",
       "2  {'colsample_bytree': 0.9, 'learning_rate': 0.5...  "
      ]
     },
     "execution_count": 81,
     "metadata": {},
     "output_type": "execute_result"
    }
   ],
   "source": [
    "df_metrics"
   ]
  },
  {
   "cell_type": "markdown",
   "metadata": {},
   "source": [
    "### Random Forest"
   ]
  },
  {
   "cell_type": "code",
   "execution_count": 82,
   "metadata": {},
   "outputs": [
    {
     "data": {
      "text/plain": [
       "RandomForestClassifier(min_samples_leaf=10, n_estimators=1)"
      ]
     },
     "execution_count": 82,
     "metadata": {},
     "output_type": "execute_result"
    }
   ],
   "source": [
    "clf_rf = RandomForestClassifier(min_samples_leaf=10, n_estimators=1)\n",
    "clf_rf.fit(x_train, y_train)"
   ]
  },
  {
   "cell_type": "code",
   "execution_count": 83,
   "metadata": {},
   "outputs": [
    {
     "name": "stdout",
     "output_type": "stream",
     "text": [
      "[[18465  1061]\n",
      " [ 3638  1026]]\n"
     ]
    }
   ],
   "source": [
    "y_pred = clf_rf.predict(x_test)\n",
    "cf_matrix = confusion_matrix(y_test, y_pred)\n",
    "print(cf_matrix)"
   ]
  },
  {
   "cell_type": "code",
   "execution_count": 85,
   "metadata": {},
   "outputs": [
    {
     "name": "stdout",
     "output_type": "stream",
     "text": [
      "The F1 Score is: 0.30395496963412827\n",
      "The AUC Score is: 0.5828225206695422\n"
     ]
    }
   ],
   "source": [
    "print(f\"The F1 Score is: {f1_score(y_test, y_pred)}\")\n",
    "print(f\"The AUC Score is: {roc_auc_score(y_test, y_pred)}\")"
   ]
  },
  {
   "cell_type": "code",
   "execution_count": 87,
   "metadata": {},
   "outputs": [
    {
     "name": "stdout",
     "output_type": "stream",
     "text": [
      "{'class_weight': {0: 0.2789473684210526, 1: 0.7210526315789474}}\n"
     ]
    }
   ],
   "source": [
    "# Using Grid Search CV to find optimum weights \n",
    "\n",
    "class_weight = np.linspace(0.05, 1.5, 20) # creating evenly spaced numbers \n",
    "grid_para = {'class_weight' : [{0: x, 1: 1.0-x} for x in class_weight]}\n",
    "\n",
    "gridsearch = GridSearchCV(estimator = RandomForestClassifier(n_estimators=1, min_samples_leaf=10),\n",
    "                          param_grid = grid_para,\n",
    "                          scoring = 'f1',\n",
    "                          cv = 5)\n",
    "gridsearch.fit(x_train, y_train)\n",
    "print(gridsearch.best_params_)"
   ]
  },
  {
   "cell_type": "code",
   "execution_count": 88,
   "metadata": {},
   "outputs": [
    {
     "data": {
      "text/plain": [
       "RandomForestClassifier(class_weight={0: 0.2789473684210526,\n",
       "                                     1: 0.7210526315789474},\n",
       "                       min_samples_leaf=10, n_estimators=1)"
      ]
     },
     "execution_count": 88,
     "metadata": {},
     "output_type": "execute_result"
    }
   ],
   "source": [
    "clf_rf = RandomForestClassifier(min_samples_leaf=10, n_estimators=1, \n",
    "class_weight={0: 0.2789473684210526, 1: 0.7210526315789474})\n",
    "\n",
    "clf_rf.fit(x_train, y_train)"
   ]
  },
  {
   "cell_type": "code",
   "execution_count": 89,
   "metadata": {},
   "outputs": [
    {
     "name": "stdout",
     "output_type": "stream",
     "text": [
      "[[15249  4277]\n",
      " [ 2549  2115]]\n"
     ]
    }
   ],
   "source": [
    "y_pred = clf_rf.predict(x_test)\n",
    "cf_matrix = confusion_matrix(y_test, y_pred)\n",
    "print(cf_matrix)"
   ]
  },
  {
   "cell_type": "code",
   "execution_count": 90,
   "metadata": {},
   "outputs": [
    {
     "name": "stdout",
     "output_type": "stream",
     "text": [
      "The F1 Score is: 0.3825976845151953\n",
      "The AUC Score is: 0.617216067541734\n"
     ]
    }
   ],
   "source": [
    "print(f\"The F1 Score is: {f1_score(y_test, y_pred)}\")\n",
    "print(f\"The AUC Score is: {roc_auc_score(y_test, y_pred)}\")"
   ]
  },
  {
   "cell_type": "code",
   "execution_count": 92,
   "metadata": {},
   "outputs": [
    {
     "data": {
      "image/png": "[encoded data removed]",
      "text/plain": [
       "<Figure size 432x288 with 2 Axes>"
      ]
     },
     "metadata": {
      "needs_background": "light"
     },
     "output_type": "display_data"
    }
   ],
   "source": [
    "ax = sns.heatmap(cf_matrix/np.sum(cf_matrix), annot=True, \n",
    "            fmt='.2%', cmap='Blues')\n",
    "\n",
    "ax.set_title('Seaborn Confusion Matrix with labels\\n\\n');\n",
    "ax.set_xlabel('\\nPredicted Values')\n",
    "ax.set_ylabel('Actual Values ');\n",
    "\n",
    "## Ticket labels - List must be in alphabetical order\n",
    "ax.xaxis.set_ticklabels(['False','True'])\n",
    "ax.yaxis.set_ticklabels(['False','True'])\n",
    "\n",
    "## Display the visualization of the Confusion Matrix.\n",
    "plt.show()"
   ]
  },
  {
   "cell_type": "code",
   "execution_count": 91,
   "metadata": {},
   "outputs": [
    {
     "data": {
      "image/png": "[encoded data removed]",
      "text/plain": [
       "<Figure size 720x504 with 1 Axes>"
      ]
     },
     "metadata": {
      "needs_background": "light"
     },
     "output_type": "display_data"
    }
   ],
   "source": [
    "fig = plt.figure(figsize=(10, 7))\n",
    "\n",
    "\n",
    "fpr, tpr, threshold = roc_curve(y_test, y_pred)\n",
    "roc_auc = auc(fpr, tpr)\n",
    "\n",
    "import matplotlib.pyplot as plt\n",
    "plt.title('Receiver Operating Characteristic')\n",
    "plt.plot(fpr, tpr, 'b', label = 'AUC = %0.2f' % roc_auc)\n",
    "plt.legend(loc = 'lower right')\n",
    "plt.plot([0, 1], [0, 1],'r--')\n",
    "plt.xlim([0, 1])\n",
    "plt.ylim([0, 1])\n",
    "plt.ylabel('True Positive Rate')\n",
    "plt.xlabel('False Positive Rate')\n",
    "plt.show()"
   ]
  },
  {
   "cell_type": "markdown",
   "metadata": {},
   "source": [
    "### Artifical Neural Networks "
   ]
  },
  {
   "cell_type": "code",
   "execution_count": 95,
   "metadata": {},
   "outputs": [],
   "source": [
    "x_train, x_test, y_train, y_test = train_test_split(x_input, y, test_size=0.20, random_state=4, stratify=y) \n",
    "# using stratify to ensure no class disparity"
   ]
  },
  {
   "cell_type": "code",
   "execution_count": 96,
   "metadata": {},
   "outputs": [],
   "source": [
    "x_train, x_val, y_train, y_val = train_test_split(x_input, y, test_size=0.20, random_state=4, stratify=y) \n",
    "# using stratify to ensure no class disparity"
   ]
  },
  {
   "cell_type": "code",
   "execution_count": 97,
   "metadata": {},
   "outputs": [
    {
     "data": {
      "text/plain": [
       "array([0.61944789, 2.5929628 ])"
      ]
     },
     "execution_count": 97,
     "metadata": {},
     "output_type": "execute_result"
    }
   ],
   "source": [
    "from sklearn.utils import class_weight\n",
    "class_weights = class_weight.compute_class_weight('balanced', \n",
    "                                                  classes = np.unique(y_train), \n",
    "                                                  y = y_train)\n",
    "class_weights"
   ]
  },
  {
   "cell_type": "code",
   "execution_count": 98,
   "metadata": {},
   "outputs": [
    {
     "data": {
      "text/plain": [
       "{0: 0.6194478943931576, 1: 2.592962804159074}"
      ]
     },
     "execution_count": 98,
     "metadata": {},
     "output_type": "execute_result"
    }
   ],
   "source": [
    "class_weight_dict = dict(enumerate(class_weights))\n",
    "class_weight_dict"
   ]
  },
  {
   "cell_type": "code",
   "execution_count": 99,
   "metadata": {},
   "outputs": [],
   "source": [
    "from keras import backend as K\n",
    "\n",
    "def f1_metric(y_true, y_pred):\n",
    "    true_positives = K.sum(K.round(K.clip(y_true * y_pred, 0, 1)))\n",
    "    possible_positives = K.sum(K.round(K.clip(y_true, 0, 1)))\n",
    "    predicted_positives = K.sum(K.round(K.clip(y_pred, 0, 1)))\n",
    "    precision = true_positives / (predicted_positives + K.epsilon())\n",
    "    recall = true_positives / (possible_positives + K.epsilon())\n",
    "    f1_val = 2*(precision*recall)/(precision+recall+K.epsilon())\n",
    "    return f1_val"
   ]
  },
  {
   "cell_type": "code",
   "execution_count": 100,
   "metadata": {},
   "outputs": [],
   "source": [
    "metric = ['accuracy', \n",
    "          f1_metric, tf.keras.metrics.Precision(name='precision'), \n",
    "          tf.keras.metrics.Recall(name='recall'), \n",
    "          tf.keras.metrics.AUC(name='auc')]"
   ]
  },
  {
   "cell_type": "code",
   "execution_count": 101,
   "metadata": {},
   "outputs": [
    {
     "name": "stdout",
     "output_type": "stream",
     "text": [
      "Done!\n"
     ]
    }
   ],
   "source": [
    "def my_model():\n",
    "\n",
    "  model = keras.Sequential([\n",
    "        keras.layers.Dense(48, input_dim=24, activation='selu', \n",
    "                           kernel_initializer='he_uniform'), # initialising weights\n",
    "        keras.layers.Dense(32, activation=\"selu\"),\n",
    "        keras.layers.Dense(32, activation='selu'),\n",
    "        keras.layers.Dense(32, activation='selu'),\n",
    "        keras.layers.Dense(32, activation='selu'),\n",
    "        keras.layers.Dense(32, activation='selu'),\n",
    "        keras.layers.Dense(32, activation='selu'),\n",
    "        keras.layers.Dense(24, activation='selu'),\n",
    "        keras.layers.Dense(24, activation='selu'),\n",
    "        keras.layers.Dense(12, activation='selu'),\n",
    "        keras.layers.Dense(6, activation='selu'),\n",
    "        keras.layers.Dense(4, activation='selu'),\n",
    "        keras.layers.Dense(2, activation='selu'),\n",
    "        keras.layers.Dense(1, activation='sigmoid')\n",
    "    ])\n",
    "\n",
    "  # The optimiser is Adam with a learning rate of 0.001:\n",
    "  optim = tf.keras.optimizers.Adam(learning_rate=0.001, beta_1 = 0.9, beta_2 = 0.999, \n",
    "                                   epsilon = 10e-8, decay = 0.1, amsgrad = True)\n",
    "\n",
    "  # The model optimises cross entropy as its loss function and will monitor classification accuracy:\n",
    "  model.compile(optimizer=optim, \n",
    "                loss=tf.keras.losses.BinaryCrossentropy(from_logits=False), \n",
    "                metrics=metric)\n",
    "\n",
    "  # Printing model summary:\n",
    "  print(model.summary())\n",
    "\n",
    "  return model\n",
    "print('Done!')"
   ]
  },
  {
   "cell_type": "code",
   "execution_count": 102,
   "metadata": {},
   "outputs": [
    {
     "name": "stdout",
     "output_type": "stream",
     "text": [
      "Model: \"sequential\"\n",
      "_________________________________________________________________\n",
      "Layer (type)                 Output Shape              Param #   \n",
      "=================================================================\n",
      "dense (Dense)                (None, 48)                1200      \n",
      "_________________________________________________________________\n",
      "dense_1 (Dense)              (None, 32)                1568      \n",
      "_________________________________________________________________\n",
      "dense_2 (Dense)              (None, 32)                1056      \n",
      "_________________________________________________________________\n",
      "dense_3 (Dense)              (None, 32)                1056      \n",
      "_________________________________________________________________\n",
      "dense_4 (Dense)              (None, 32)                1056      \n",
      "_________________________________________________________________\n",
      "dense_5 (Dense)              (None, 32)                1056      \n",
      "_________________________________________________________________\n",
      "dense_6 (Dense)              (None, 32)                1056      \n",
      "_________________________________________________________________\n",
      "dense_7 (Dense)              (None, 24)                792       \n",
      "_________________________________________________________________\n",
      "dense_8 (Dense)              (None, 24)                600       \n",
      "_________________________________________________________________\n",
      "dense_9 (Dense)              (None, 12)                300       \n",
      "_________________________________________________________________\n",
      "dense_10 (Dense)             (None, 6)                 78        \n",
      "_________________________________________________________________\n",
      "dense_11 (Dense)             (None, 4)                 28        \n",
      "_________________________________________________________________\n",
      "dense_12 (Dense)             (None, 2)                 10        \n",
      "_________________________________________________________________\n",
      "dense_13 (Dense)             (None, 1)                 3         \n",
      "=================================================================\n",
      "Total params: 9,859\n",
      "Trainable params: 9,859\n",
      "Non-trainable params: 0\n",
      "_________________________________________________________________\n",
      "None\n"
     ]
    }
   ],
   "source": [
    "model = my_model()"
   ]
  },
  {
   "cell_type": "code",
   "execution_count": 103,
   "metadata": {},
   "outputs": [],
   "source": [
    "from keras.callbacks import EarlyStopping\n",
    "from keras.callbacks import ModelCheckpoint\n",
    "import datetime, os\n",
    "\n",
    "es = EarlyStopping(monitor = \"val_f1_metric\", mode = \"max\", min_delta= 0.0001, patience = 5, verbose=1)\n",
    "mc = ModelCheckpoint(filepath=\"best_model.h5\", \n",
    "                     monitor=\"val_f1_metric\", verbose=1, save_best_only= True, mode=\"max\")\n",
    "\n",
    "logdir = os.path.join(\"logs\", datetime.datetime.now().strftime(\"%Y%m%d-%H%M%S\"))\n",
    "tensorboard_callback = tf.keras.callbacks.TensorBoard(logdir, histogram_freq=1)"
   ]
  },
  {
   "cell_type": "code",
   "execution_count": 104,
   "metadata": {},
   "outputs": [
    {
     "name": "stdout",
     "output_type": "stream",
     "text": [
      "WARNING:tensorflow:From C:\\Users\\saqui\\anaconda3\\envs\\ml\\lib\\site-packages\\tensorflow\\python\\ops\\array_ops.py:5043: calling gather (from tensorflow.python.ops.array_ops) with validate_indices is deprecated and will be removed in a future version.\n",
      "Instructions for updating:\n",
      "The `validate_indices` argument has no effect. Indices are always validated on CPU and never validated on GPU.\n",
      "Epoch 1/200\n",
      "3024/3024 [==============================] - 10s 3ms/step - loss: 0.6405 - accuracy: 0.6816 - f1_metric: 0.3944 - precision: 0.3184 - recall: 0.5709 - auc: 0.6808 - val_loss: 0.6341 - val_accuracy: 0.6950 - val_f1_metric: 0.4029 - val_precision: 0.3305 - val_recall: 0.5671 - val_auc: 0.6845\n",
      "\n",
      "Epoch 00001: val_f1_metric improved from -inf to 0.40292, saving model to best_model.h5\n",
      "Epoch 2/200\n",
      "3024/3024 [==============================] - 6s 2ms/step - loss: 0.6336 - accuracy: 0.6903 - f1_metric: 0.4012 - precision: 0.3270 - recall: 0.5727 - auc: 0.6912 - val_loss: 0.6317 - val_accuracy: 0.6955 - val_f1_metric: 0.4044 - val_precision: 0.3315 - val_recall: 0.5697 - val_auc: 0.6865\n",
      "\n",
      "Epoch 00002: val_f1_metric improved from 0.40292 to 0.40441, saving model to best_model.h5\n",
      "Epoch 3/200\n",
      "3024/3024 [==============================] - 6s 2ms/step - loss: 0.6326 - accuracy: 0.6930 - f1_metric: 0.4015 - precision: 0.3291 - recall: 0.5702 - auc: 0.6929 - val_loss: 0.6372 - val_accuracy: 0.6912 - val_f1_metric: 0.4041 - val_precision: 0.3284 - val_recall: 0.5757 - val_auc: 0.6878\n",
      "\n",
      "Epoch 00003: val_f1_metric did not improve from 0.40441\n",
      "Epoch 4/200\n",
      "3024/3024 [==============================] - 7s 2ms/step - loss: 0.6320 - accuracy: 0.6924 - f1_metric: 0.4036 - precision: 0.3291 - recall: 0.5733 - auc: 0.6938 - val_loss: 0.6339 - val_accuracy: 0.6930 - val_f1_metric: 0.4043 - val_precision: 0.3297 - val_recall: 0.5733 - val_auc: 0.6885\n",
      "\n",
      "Epoch 00004: val_f1_metric did not improve from 0.40441\n",
      "Epoch 5/200\n",
      "3024/3024 [==============================] - 9s 3ms/step - loss: 0.6316 - accuracy: 0.6930 - f1_metric: 0.4037 - precision: 0.3296 - recall: 0.5728 - auc: 0.6945 - val_loss: 0.6325 - val_accuracy: 0.6941 - val_f1_metric: 0.4047 - val_precision: 0.3307 - val_recall: 0.5725 - val_auc: 0.6893racy: 0.6920 - f1_metric: 0.4023 - precision: 0.3277 - recall: 0.572\n",
      "\n",
      "Epoch 00005: val_f1_metric improved from 0.40441 to 0.40475, saving model to best_model.h5\n",
      "Epoch 6/200\n",
      "3024/3024 [==============================] - 9s 3ms/step - loss: 0.6313 - accuracy: 0.6933 - f1_metric: 0.4056 - precision: 0.3301 - recall: 0.5735 - auc: 0.6949 - val_loss: 0.6325 - val_accuracy: 0.6937 - val_f1_metric: 0.4047 - val_precision: 0.3304 - val_recall: 0.5733 - val_auc: 0.6900\n",
      "\n",
      "Epoch 00006: val_f1_metric did not improve from 0.40475\n",
      "Epoch 7/200\n",
      "3024/3024 [==============================] - 9s 3ms/step - loss: 0.6310 - accuracy: 0.6936 - f1_metric: 0.4044 - precision: 0.3303 - recall: 0.5736 - auc: 0.6953 - val_loss: 0.6322 - val_accuracy: 0.6940 - val_f1_metric: 0.4050 - val_precision: 0.3307 - val_recall: 0.5735 - val_auc: 0.6903\n",
      "\n",
      "Epoch 00007: val_f1_metric improved from 0.40475 to 0.40498, saving model to best_model.h5\n",
      "Epoch 8/200\n",
      "3024/3024 [==============================] - 8s 3ms/step - loss: 0.6308 - accuracy: 0.6937 - f1_metric: 0.4050 - precision: 0.3306 - recall: 0.5743 - auc: 0.6957 - val_loss: 0.6308 - val_accuracy: 0.6955 - val_f1_metric: 0.4057 - val_precision: 0.3320 - val_recall: 0.5727 - val_auc: 0.6906\n",
      "\n",
      "Epoch 00008: val_f1_metric improved from 0.40498 to 0.40565, saving model to best_model.h5\n",
      "Epoch 9/200\n",
      "3024/3024 [==============================] - 8s 2ms/step - loss: 0.6306 - accuracy: 0.6949 - f1_metric: 0.4050 - precision: 0.3317 - recall: 0.5739 - auc: 0.6960 - val_loss: 0.6304 - val_accuracy: 0.6959 - val_f1_metric: 0.4057 - val_precision: 0.3323 - val_recall: 0.5720 - val_auc: 0.6910\n",
      "\n",
      "Epoch 00009: val_f1_metric improved from 0.40565 to 0.40567, saving model to best_model.h5\n",
      "Epoch 10/200\n",
      "3024/3024 [==============================] - 7s 2ms/step - loss: 0.6305 - accuracy: 0.6952 - f1_metric: 0.4054 - precision: 0.3319 - recall: 0.5734 - auc: 0.6963 - val_loss: 0.6307 - val_accuracy: 0.6957 - val_f1_metric: 0.4053 - val_precision: 0.3321 - val_recall: 0.5720 - val_auc: 0.6912\n",
      "\n",
      "Epoch 00010: val_f1_metric did not improve from 0.40567\n",
      "Epoch 11/200\n",
      "3024/3024 [==============================] - 8s 2ms/step - loss: 0.6303 - accuracy: 0.6963 - f1_metric: 0.4072 - precision: 0.3329 - recall: 0.5731 - auc: 0.6965 - val_loss: 0.6314 - val_accuracy: 0.6950 - val_f1_metric: 0.4058 - val_precision: 0.3318 - val_recall: 0.5740 - val_auc: 0.6915\n",
      "\n",
      "Epoch 00011: val_f1_metric improved from 0.40567 to 0.40577, saving model to best_model.h5\n",
      "Epoch 12/200\n",
      "3024/3024 [==============================] - 8s 3ms/step - loss: 0.6302 - accuracy: 0.6946 - f1_metric: 0.4062 - precision: 0.3316 - recall: 0.5748 - auc: 0.6967 - val_loss: 0.6301 - val_accuracy: 0.6967 - val_f1_metric: 0.4061 - val_precision: 0.3332 - val_recall: 0.5723 - val_auc: 0.6916\n",
      "\n",
      "Epoch 00012: val_f1_metric improved from 0.40577 to 0.40612, saving model to best_model.h5\n",
      "Epoch 13/200\n",
      "3024/3024 [==============================] - 8s 3ms/step - loss: 0.6301 - accuracy: 0.6965 - f1_metric: 0.4062 - precision: 0.3333 - recall: 0.5737 - auc: 0.6968 - val_loss: 0.6299 - val_accuracy: 0.6973 - val_f1_metric: 0.4066 - val_precision: 0.3338 - val_recall: 0.5720 - val_auc: 0.6919\n",
      "\n",
      "Epoch 00013: val_f1_metric improved from 0.40612 to 0.40663, saving model to best_model.h5\n",
      "Epoch 14/200\n",
      "3024/3024 [==============================] - 7s 2ms/step - loss: 0.6300 - accuracy: 0.6976 - f1_metric: 0.4067 - precision: 0.3342 - recall: 0.5726 - auc: 0.6970 - val_loss: 0.6304 - val_accuracy: 0.6970 - val_f1_metric: 0.4060 - val_precision: 0.3333 - val_recall: 0.5712 - val_auc: 0.6921\n",
      "\n",
      "Epoch 00014: val_f1_metric did not improve from 0.40663\n",
      "Epoch 15/200\n",
      "3024/3024 [==============================] - 7s 2ms/step - loss: 0.6299 - accuracy: 0.6972 - f1_metric: 0.4054 - precision: 0.3338 - recall: 0.5728 - auc: 0.6972 - val_loss: 0.6301 - val_accuracy: 0.6974 - val_f1_metric: 0.4061 - val_precision: 0.3336 - val_recall: 0.5710 - val_auc: 0.6922\n",
      "\n",
      "Epoch 00015: val_f1_metric did not improve from 0.40663\n",
      "Epoch 16/200\n",
      "3024/3024 [==============================] - 7s 2ms/step - loss: 0.6298 - accuracy: 0.6982 - f1_metric: 0.4063 - precision: 0.3346 - recall: 0.5716 - auc: 0.6973 - val_loss: 0.6304 - val_accuracy: 0.6976 - val_f1_metric: 0.4061 - val_precision: 0.3338 - val_recall: 0.5703 - val_auc: 0.6924\n",
      "\n",
      "Epoch 00016: val_f1_metric did not improve from 0.40663\n",
      "Epoch 17/200\n",
      "3024/3024 [==============================] - 7s 2ms/step - loss: 0.6297 - accuracy: 0.6980 - f1_metric: 0.4069 - precision: 0.3344 - recall: 0.5719 - auc: 0.6975 - val_loss: 0.6303 - val_accuracy: 0.6979 - val_f1_metric: 0.4063 - val_precision: 0.3340 - val_recall: 0.5703 - val_auc: 0.6926\n",
      "\n",
      "Epoch 00017: val_f1_metric did not improve from 0.40663\n",
      "Epoch 18/200\n",
      "3024/3024 [==============================] - 7s 2ms/step - loss: 0.6296 - accuracy: 0.6978 - f1_metric: 0.4067 - precision: 0.3342 - recall: 0.5718 - auc: 0.6976 - val_loss: 0.6300 - val_accuracy: 0.6982 - val_f1_metric: 0.4064 - val_precision: 0.3342 - val_recall: 0.5699 - val_auc: 0.6927\n",
      "\n",
      "Epoch 00018: val_f1_metric did not improve from 0.40663\n",
      "Epoch 00018: early stopping\n"
     ]
    }
   ],
   "source": [
    "history = model.fit(x_train, y_train, epochs= 200, validation_data = (x_val, y_val), \n",
    "                    callbacks = [es,mc, tensorboard_callback], class_weight = class_weight_dict)"
   ]
  },
  {
   "cell_type": "code",
   "execution_count": 106,
   "metadata": {},
   "outputs": [
    {
     "data": {
      "image/png": "[encoded data removed]",
      "text/plain": [
       "<Figure size 1152x360 with 2 Axes>"
      ]
     },
     "metadata": {},
     "output_type": "display_data"
    }
   ],
   "source": [
    "fig = plt.figure(figsize=(16, 5))\n",
    "#  subplot #1\n",
    "plt.subplot(121)\n",
    "import seaborn as sns \n",
    "sns.set_style(\"whitegrid\")\n",
    "plt.plot(history.history[\"accuracy\"], 'r', label = \"training accuracy\")\n",
    "plt.plot(history.history[\"val_accuracy\"], label = \"validation accuracy\")\n",
    "plt.plot(history.history[\"loss\"], 'r', label = \"training loss\")\n",
    "plt.plot(history.history[\"val_loss\"], label = \"validation loss\")\n",
    "plt.xlabel(\"epochs\")\n",
    "plt.ylabel(\"accuracy and loss\")\n",
    "plt.title(\"Accuracy & loss \\n\", fontsize = 14)\n",
    "plt.legend()\n",
    "\n",
    "#  subplot #2\n",
    "plt.subplot(122)\n",
    "import seaborn as sns \n",
    "sns.set_style(\"whitegrid\")\n",
    "plt.plot(history.history[\"f1_metric\"], 'r', label = \"training f1_metric\")\n",
    "plt.plot(history.history[\"val_f1_metric\"], label = \"validation f1_metric\")\n",
    "plt.plot(history.history[\"auc\"], 'r', label = \"training AUC\")\n",
    "plt.plot(history.history[\"val_auc\"], label = \"validation AUC\")\n",
    "plt.xlabel(\"epochs\")\n",
    "plt.ylabel(\"AUC and F1\")\n",
    "plt.title(\"F1 Score & AUC\\n\", fontsize = 14)\n",
    "plt.legend()\n",
    "\n",
    "plt.show()"
   ]
  },
  {
   "cell_type": "code",
   "execution_count": 107,
   "metadata": {},
   "outputs": [
    {
     "name": "stdout",
     "output_type": "stream",
     "text": [
      "756/756 [==============================] - 1s 1ms/step - loss: 0.6300 - accuracy: 0.6982 - f1_metric: 0.4064 - precision: 0.3342 - recall: 0.5699 - auc: 0.6927\n",
      "The accuracy for Test Data is: 69.81810927391052 %\n"
     ]
    }
   ],
   "source": [
    "acc = model.evaluate(x_test, y_test, verbose = 1, )\n",
    "print(f\"The accuracy for Test Data is: {acc[1] * 100} %\")"
   ]
  },
  {
   "cell_type": "code",
   "execution_count": 108,
   "metadata": {},
   "outputs": [
    {
     "data": {
      "text/plain": [
       "array([[0.58429855],\n",
       "       [0.45022517],\n",
       "       [0.6527459 ],\n",
       "       ...,\n",
       "       [0.4314626 ],\n",
       "       [0.51019615],\n",
       "       [0.31787825]], dtype=float32)"
      ]
     },
     "execution_count": 108,
     "metadata": {},
     "output_type": "execute_result"
    }
   ],
   "source": [
    "y_pred = model.predict(x_test)\n",
    "y_pred"
   ]
  },
  {
   "cell_type": "code",
   "execution_count": 109,
   "metadata": {},
   "outputs": [
    {
     "data": {
      "text/plain": [
       "array([[1.],\n",
       "       [0.],\n",
       "       [1.],\n",
       "       ...,\n",
       "       [0.],\n",
       "       [1.],\n",
       "       [0.]], dtype=float32)"
      ]
     },
     "execution_count": 109,
     "metadata": {},
     "output_type": "execute_result"
    }
   ],
   "source": [
    "y_pred = np.round(y_pred)\n",
    "y_pred"
   ]
  },
  {
   "cell_type": "code",
   "execution_count": 110,
   "metadata": {},
   "outputs": [
    {
     "name": "stdout",
     "output_type": "stream",
     "text": [
      "Classification Report: \n",
      "               precision    recall  f1-score   support\n",
      "\n",
      "           0       0.88      0.73      0.80     19526\n",
      "           1       0.33      0.57      0.42      4664\n",
      "\n",
      "    accuracy                           0.70     24190\n",
      "   macro avg       0.61      0.65      0.61     24190\n",
      "weighted avg       0.77      0.70      0.72     24190\n",
      "\n"
     ]
    }
   ],
   "source": [
    "print(\"Classification Report: \\n\", classification_report(y_test, y_pred))"
   ]
  },
  {
   "cell_type": "code",
   "execution_count": 111,
   "metadata": {},
   "outputs": [
    {
     "name": "stdout",
     "output_type": "stream",
     "text": [
      "[[14231  5295]\n",
      " [ 2006  2658]]\n"
     ]
    }
   ],
   "source": [
    "cf_matrix = confusion_matrix(y_test, y_pred)\n",
    "print(cf_matrix)"
   ]
  },
  {
   "cell_type": "code",
   "execution_count": 112,
   "metadata": {},
   "outputs": [
    {
     "data": {
      "image/png": "[encoded data removed]",
      "text/plain": [
       "<Figure size 432x288 with 2 Axes>"
      ]
     },
     "metadata": {},
     "output_type": "display_data"
    }
   ],
   "source": [
    "ax = sns.heatmap(cf_matrix/np.sum(cf_matrix), annot=True, \n",
    "            fmt='.2%', cmap='Blues')\n",
    "\n",
    "ax.set_title('Seaborn Confusion Matrix with labels\\n\\n');\n",
    "ax.set_xlabel('\\nPredicted Values')\n",
    "ax.set_ylabel('Actual Values ');\n",
    "\n",
    "## Ticket labels - List must be in alphabetical order\n",
    "ax.xaxis.set_ticklabels(['False','True'])\n",
    "ax.yaxis.set_ticklabels(['False','True'])\n",
    "\n",
    "## Display the visualization of the Confusion Matrix.\n",
    "plt.show()"
   ]
  },
  {
   "cell_type": "code",
   "execution_count": 114,
   "metadata": {},
   "outputs": [
    {
     "data": {
      "image/png": "[encoded data removed]",
      "text/plain": [
       "<Figure size 720x504 with 1 Axes>"
      ]
     },
     "metadata": {},
     "output_type": "display_data"
    }
   ],
   "source": [
    "fig = plt.figure(figsize=(10, 7))\n",
    "\n",
    "\n",
    "fpr, tpr, threshold = roc_curve(y_test, y_pred)\n",
    "roc_auc = auc(fpr, tpr)\n",
    "\n",
    "import matplotlib.pyplot as plt\n",
    "plt.title('Receiver Operating Characteristic')\n",
    "plt.plot(fpr, tpr, 'b', label = 'AUC = %0.2f' % roc_auc)\n",
    "plt.legend(loc = 'lower right')\n",
    "plt.plot([0, 1], [0, 1],'r--')\n",
    "plt.xlim([0, 1])\n",
    "plt.ylim([0, 1])\n",
    "plt.ylabel('True Positive Rate')\n",
    "plt.xlabel('False Positive Rate')\n",
    "plt.show()"
   ]
  },
  {
   "cell_type": "code",
   "execution_count": 115,
   "metadata": {},
   "outputs": [
    {
     "data": {
      "text/html": [
       "\n",
       "      <iframe id=\"tensorboard-frame-af5da28901a9dc06\" width=\"100%\" height=\"800\" frameborder=\"0\">\n",
       "      </iframe>\n",
       "      <script>\n",
       "        (function() {\n",
       "          const frame = document.getElementById(\"tensorboard-frame-af5da28901a9dc06\");\n",
       "          const url = new URL(\"/\", window.location);\n",
       "          const port = 6006;\n",
       "          if (port) {\n",
       "            url.port = port;\n",
       "          }\n",
       "          frame.src = url;\n",
       "        })();\n",
       "      </script>\n",
       "    "
      ],
      "text/plain": [
       "<IPython.core.display.HTML object>"
      ]
     },
     "metadata": {},
     "output_type": "display_data"
    }
   ],
   "source": [
    "%load_ext tensorboard\n",
    "%tensorboard --logdir logs"
   ]
  }
 ],
 "metadata": {
  "interpreter": {
   "hash": "2adb298c8e1dd358882d5b0f78349e1812d5d364ebee32b6c9d54c3f80f806ed"
  },
  "kernelspec": {
   "display_name": "Python 3.8.10 ('ml')",
   "language": "python",
   "name": "python3"
  },
  "language_info": {
   "codemirror_mode": {
    "name": "ipython",
    "version": 3
   },
   "file_extension": ".py",
   "mimetype": "text/x-python",
   "name": "python",
   "nbconvert_exporter": "python",
   "pygments_lexer": "ipython3",
   "version": "3.8.10"
  },
  "orig_nbformat": 4
 },
 "nbformat": 4,
 "nbformat_minor": 2
}
